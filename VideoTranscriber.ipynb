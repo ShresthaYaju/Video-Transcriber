{
  "nbformat": 4,
  "nbformat_minor": 0,
  "metadata": {
    "colab": {
      "provenance": [],
      "authorship_tag": "ABX9TyPn1m/ZDUIpnJreYOL/3q84",
      "include_colab_link": true
    },
    "kernelspec": {
      "name": "python3",
      "display_name": "Python 3"
    },
    "language_info": {
      "name": "python"
    }
  },
  "cells": [
    {
      "cell_type": "markdown",
      "metadata": {
        "id": "view-in-github",
        "colab_type": "text"
      },
      "source": [
        "<a href=\"https://colab.research.google.com/github/ShresthaYaju/Video-Transcriber/blob/main/VideoTranscriber.ipynb\" target=\"_parent\"><img src=\"https://colab.research.google.com/assets/colab-badge.svg\" alt=\"Open In Colab\"/></a>"
      ]
    },
    {
      "cell_type": "code",
      "execution_count": null,
      "metadata": {
        "id": "efIzw_JN5px8"
      },
      "outputs": [],
      "source": [
        "pip install SpeechRecognition moviepy pydub\n"
      ]
    },
    {
      "cell_type": "code",
      "source": [
        "import speech_recognition as sr\n",
        "from moviepy.editor import VideoFileClip\n",
        "from pydub import AudioSegment\n",
        "\n",
        "# Function to extract audio from video\n",
        "def extract_audio_from_video(video_path, audio_output_path):\n",
        "    video = VideoFileClip(video_path)\n",
        "    video.audio.write_audiofile(audio_output_path)\n",
        "\n",
        "# Function to transcribe audio to text using SpeechRecognition\n",
        "def transcribe_audio(audio_path):\n",
        "    recognizer = sr.Recognizer()\n",
        "    audio = AudioSegment.from_wav(audio_path)\n",
        "\n",
        "    # Split long audio into chunks to avoid limits on processing large files\n",
        "    chunk_size_ms = 60000  # 1-minute chunks\n",
        "    chunks = [audio[i:i + chunk_size_ms] for i in range(0, len(audio), chunk_size_ms)]\n",
        "\n",
        "    transcript = []\n",
        "\n",
        "    for i, chunk in enumerate(chunks):\n",
        "        chunk_path = f\"chunk_{i}.wav\"\n",
        "        chunk.export(chunk_path, format=\"wav\")\n",
        "\n",
        "        with sr.AudioFile(chunk_path) as source:\n",
        "            audio_data = recognizer.record(source)\n",
        "            try:\n",
        "                text = recognizer.recognize_google(audio_data)\n",
        "                transcript.append(text)\n",
        "            except sr.UnknownValueError:\n",
        "                print(\"Speech Recognition could not understand audio\")\n",
        "            except sr.RequestError as e:\n",
        "                print(f\"Could not request results; {e}\")\n",
        "\n",
        "    return \" \".join(transcript)\n",
        "\n",
        "# Main function to handle video transcription\n",
        "def transcribe_video(video_path, audio_output_path=\"audio.wav\"):\n",
        "    # Step 1: Extract audio from the video\n",
        "    extract_audio_from_video(video_path, audio_output_path)\n",
        "\n",
        "    # Step 2: Transcribe the audio to text\n",
        "    transcript = transcribe_audio(audio_output_path)\n",
        "\n",
        "    return transcript\n",
        "\n",
        "# Example usage\n",
        "video_path = \"/content/t-2XuJdW4AnpaEWgeo1DS1Wa3NipRwETug.mp4\"\n",
        "transcript = transcribe_video(video_path)\n",
        "print(transcript)\n"
      ],
      "metadata": {
        "id": "NLAssxqO5vnc"
      },
      "execution_count": null,
      "outputs": []
    }
  ]
}